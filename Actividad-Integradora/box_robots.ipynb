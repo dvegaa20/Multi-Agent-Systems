{
 "cells": [
  {
   "cell_type": "markdown",
   "metadata": {},
   "source": [
    "# Detalles del Alumno\n",
    "- Nombre: Diego Vega Camacho\n",
    "- Matrícula: A01704492\n",
    "- Link al repositorio de github: \n",
    "\n",
    "# Descripción del problema\n",
    "¡Felicidades! Eres el orgulloso propietario de 5 robots nuevos y un almacén lleno de cajas. El dueño anterior del almacén lo dejó en completo desorden, por lo que depende de tus robots organizar las cajas en algo parecido al orden y convertirlo en un negocio exitoso.\n",
    "\n",
    "Cada robot está equipado con ruedas omnidireccionales y, por lo tanto, puede conducir en las cuatro direcciones. Pueden recoger cajas en celdas de cuadrícula adyacentes con sus manipuladores, luego llevarlas a otra ubicación e incluso construir pilas de hasta cinco cajas. Todos los robots están equipados con la tecnología de sensores más nueva que les permite recibir datos de sensores de las cuatro celdas adyacentes. Por tanto, es fácil distinguir si un campo está libre, es una pared, contiene una pila de cajas (y cuantas cajas hay en la pila) o está ocupado por otro robot. Los robots también tienen sensores de presión equipados que les indican si llevan una caja en ese\n",
    "momento.\n",
    "\n",
    "Lamentablemente, tu presupuesto resultó insuficiente para adquirir un software de gestión de agentes múltiples de última generación. Pero eso no debería ser un gran problema ... ¿verdad? Tu tarea es enseñar a sus robots cómo ordenar su almacén. La organización de los agentes depende de ti, siempre que todas las cajas terminen en pilas ordenadas de cinco.\n",
    "\n",
    "# Puntos a considerar\n",
    "- La semilla para generación de números aleatorios será 67890.\n",
    "- El almacén es 20x20 celdas.\n",
    "- Al inicio de la simulación, tu solución deberá colocar 200 cajas repartidas en grupos de 1 a 3 cajas en posiciones aleatorias.\n",
    "- Todos los robots empiezan en posiciones aleatorias vacías. Y, sólo puede haber un robot por celda.\n",
    "- La simulación termina cuando todas las cajas se encuentra apiladas en pilas de exactamente 5 cajas.\n",
    "\n",
    "# ¿Que debes entregar?\n",
    "Un cuaderno de Jupyter Notebook conteniendo un reporte de la actividad. El cuaderno deberá contener:\n",
    "- Código fuente documentado.\n",
    "- Descripción detallada de la estrategia y los mecanismos utilizados en tu solución.\n",
    "- Una visualización que permita ver los diferentes pasos de la simulación.\n",
    "- El número de pasos necesarios para terminar la simulación.\n",
    "- ¿Existe una forma de reducir el número de pasos utilizados? Si es así, ¿cuál es la estrategia que se tendría en implementar?\n",
    "\n",
    "### Realiza la siguiente simulación:\n",
    "- Inicializa las posiciones iniciales de las K cajas. Todas las cajas están a nivel de piso, es decir, no hay pilas de cajas.\n",
    "- Todos los agentes empiezan en posición aleatorias vacías.\n",
    "- Se ejecuta el tiempo máximo establecido.\n",
    "### Deberás recopilar la siguiente información durante la ejecución:\n",
    "- Tiempo necesario hasta que todas las cajas están en pilas de máximo 5 cajas.\n",
    "- Número de movimientos realizados por todos los robots.\n",
    "- Analiza si existe una estrategia que podría disminuir el tiempo dedicado, así como la cantidad de movimientos realizados. ¿Cómo sería? Descríbela.\n",
    "\n",
    "# Criterios de evaluación\n",
    "Los criterios que se utilizarán para evaluar sus soluciones y seleccionar a los tres primeros ganadores son los siguientes:\n",
    "- Aplicación original, innovadora y efectiva de algoritmos computacionales para resolver problemas específicos.\n",
    "- El rendimiento de la implementación. El rendimiento de la implementación se medirá en función los pasos necesarios para terminar la simulación.\n",
    "- La calidad de la descripción de análisis, diseño e implementación del sistema multiagente, la elegancia de su diseño e implementación."
   ]
  },
  {
   "cell_type": "code",
   "execution_count": null,
   "metadata": {},
   "outputs": [],
   "source": []
  }
 ],
 "metadata": {
  "language_info": {
   "name": "python"
  }
 },
 "nbformat": 4,
 "nbformat_minor": 2
}
