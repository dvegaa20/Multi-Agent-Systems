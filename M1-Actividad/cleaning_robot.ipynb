{
 "cells": [
  {
   "cell_type": "markdown",
   "metadata": {},
   "source": [
    "# Estudio de las estadísticas de un robot de limpieza reactivo\n",
    "\n",
    "Dado:\n",
    "\n",
    "- Habitación de MxN espacios.\n",
    "- Número de agentes.\n",
    "- Porcentaje de celdas inicialmente sucias.\n",
    "- Tiempo máximo de ejecución.\n",
    "\n",
    "Realiza la siguiente simulación:\n",
    "- Inicializa las celdas sucias (ubicaciones aleatorias).\n",
    "- Todos los agentes empiezan en la celda [1,1].\n",
    "- En cada paso de tiempo:\n",
    "    - Si la celda está sucia, entonces aspira.\n",
    "    - Si la celda está limpia, el agente elije una dirección aleatoria para moverse (unas de las 8 celdas vecinas) y elije la acción de movimiento (si no puede moverse allí, permanecerá en la misma celda).\n",
    "- Se ejecuta el tiempo máximo establecido.\n",
    "\n",
    "Para un espacio de 100x100, considera los siguientes escenarios:\n",
    "- Escenario 1: 1 agente, 90% de celdas sucias.\n",
    "- Escenario 2. 2 agentes, 90% de celdas sucias.\n",
    "\n",
    "Deberás resolver las siguientes preguntas:\n",
    "- ¿Cuántos pasos de simulación toma limpiar todo el espacio?\n",
    "- ¿Qué porcentaje de celdas sucias queda con los siguientes pasos de simulación: 100, 1000, 10000?\n",
    "\n",
    "A continuación, determina cuál es la cantidad óptima de aspiradoras que debe de tener para realizar la limpieza en el menor tiempo posible. Considera que tenemos un máximo de 10 aspiradoras disponibles.\n",
    "\n",
    "Desarrollar un informe con lo observado."
   ]
  },
  {
   "cell_type": "markdown",
   "metadata": {},
   "source": [
    "### Imports"
   ]
  },
  {
   "cell_type": "code",
   "execution_count": 183,
   "metadata": {},
   "outputs": [],
   "source": [
    "from mesa import Agent, Model\n",
    "\n",
    "from mesa.space import MultiGrid\n",
    "from mesa.time import RandomActivation\n",
    "from mesa.datacollection import DataCollector\n",
    "\n",
    "%matplotlib inline\n",
    "import matplotlib\n",
    "import matplotlib.pyplot as plt\n",
    "import matplotlib.animation as animation\n",
    "plt.rcParams[\"animation.html\"] = \"jshtml\"\n",
    "matplotlib.rcParams['animation.embed_limit'] = 2**128\n",
    "\n",
    "import numpy as np\n",
    "import pandas as pd\n",
    "\n",
    "import time\n",
    "import datetime"
   ]
  },
  {
   "cell_type": "markdown",
   "metadata": {},
   "source": [
    "### Vaccum Agent"
   ]
  },
  {
   "cell_type": "code",
   "execution_count": 184,
   "metadata": {},
   "outputs": [],
   "source": [
    "class VaccumAgent(Agent):\n",
    "    def __init__(self, id, model, x, y):\n",
    "        super().__init__(id, model)\n",
    "        self.position = (x, y)\n",
    "\n",
    "    def step(self):\n",
    "        if model.dirty_cells.sum() == 0:\n",
    "            model.running = False\n",
    "\n",
    "        x_pos = self.position[0]\n",
    "        y_pos = self.position[1]\n",
    "\n",
    "        # Check if the current cell is dirty\n",
    "        if model.dirty_cells[x_pos][y_pos] == 1:\n",
    "            model.dirty_cells[x_pos][y_pos] = 0\n",
    "            # model.cleaned_cells += 1\n",
    "            # model.total_dirt -= 1\n",
    "\n",
    "        # Move to a random cell\n",
    "        possible_cells = self.model.grid.get_neighborhood(self.position, moore=True, include_center = False)\n",
    "        new_position = self.random.choice(possible_cells)\n",
    "        cellmate = self.model.grid.get_cell_list_contents([new_position])\n",
    "\n",
    "        if cellmate:\n",
    "            return\n",
    "\n",
    "        self.position = new_position\n",
    "        self.model.grid.move_agent(self, self.position)"
   ]
  },
  {
   "cell_type": "code",
   "execution_count": 185,
   "metadata": {},
   "outputs": [],
   "source": [
    "def get_vaccums(model):\n",
    "    return np.asarray([agent.position for agent in model.schedule.agents])"
   ]
  },
  {
   "cell_type": "markdown",
   "metadata": {},
   "source": [
    "### Vaccum Model"
   ]
  },
  {
   "cell_type": "code",
   "execution_count": 186,
   "metadata": {},
   "outputs": [],
   "source": [
    "class VaccumModel(Model):\n",
    "    def __init__(self, width, height, num_agents, dirty_cells_percent):\n",
    "        self.schedule = RandomActivation(self)\n",
    "        self.grid = MultiGrid(width, height, torus = False)\n",
    "        self.datacollector = DataCollector(model_reporters={\"vaccums\": get_vaccums})\n",
    "        self.dirty_cells = np.zeros((width, height))\n",
    "        self.dirty_cells_percent = dirty_cells_percent\n",
    "        self.running = True\n",
    "        # self.cleaned_cells = 0\n",
    "        # self.total_dirt = 0\n",
    "\n",
    "        # Create agents and place them in the grid\n",
    "        for i in range(num_agents):\n",
    "            x = 1\n",
    "            y = 1\n",
    "            agent = VaccumAgent(i, self, x, y)\n",
    "            self.schedule.add(agent)\n",
    "            self.grid.place_agent(agent, (x, y))\n",
    "\n",
    "        # Create dirty cells in the grid\n",
    "        dirty_cells = 0\n",
    "        while dirty_cells < int(width * height * (dirty_cells_percent / 100)):\n",
    "            x = int(np.random.rand() * width)\n",
    "            y = int(np.random.rand() * height)\n",
    "            if self.dirty_cells[x][y] == 0:\n",
    "                self.dirty_cells[x][y] = 1\n",
    "                dirty_cells += 1\n",
    "\n",
    "    def step(self):\n",
    "        if self.running == False:\n",
    "            return\n",
    "\n",
    "        self.datacollector.collect(self)\n",
    "        self.schedule.step()"
   ]
  },
  {
   "cell_type": "code",
   "execution_count": 187,
   "metadata": {},
   "outputs": [],
   "source": [
    "WIDTH = 100\n",
    "HEIGHT = 100\n",
    "DIRTY_CELLS_PERCENT = 90\n",
    "ITERATIONS = [100,1000,10000]"
   ]
  },
  {
   "cell_type": "code",
   "execution_count": 188,
   "metadata": {},
   "outputs": [],
   "source": [
    "def clean_cells(model, iterations, num_vaccums):\n",
    "  print (\"\\n\")\n",
    "  print(\"Number of vaccums: \", num_vaccums)\n",
    "\n",
    "  for iteration in iterations:\n",
    "    time = tm.time()\n",
    "\n",
    "    print(\"\\n\")\n",
    "    print(\"Iteration: \", iteration)\n",
    "\n",
    "    for i in range(iteration):\n",
    "        model.step()\n",
    "\n",
    "        if model.running == False:\n",
    "           break\n",
    "\n",
    "    dirty_cell = model.dirty_cells.sum()\n",
    "    dirty_cell_percentage = dirty_cell / (WIDTH * HEIGHT) * 100\n",
    "\n",
    "    print(\"Dirty cells: \", dirty_cell)\n",
    "    print(\"Time: \", tm.time() - time)"
   ]
  },
  {
   "cell_type": "code",
   "execution_count": 189,
   "metadata": {},
   "outputs": [],
   "source": [
    "def clean_all_cells(model, num_vaccums):\n",
    "  time = tm.time()\n",
    "  steps = 0\n",
    "\n",
    "  print(\"\\n\")\n",
    "  print(\"Number of vaccum: \", num_vaccums)\n",
    "\n",
    "  while model.running == True:\n",
    "      model.step()\n",
    "      steps += 1\n",
    "\n",
    "  print(\"Steps to clean all cells: \", steps)\n",
    "\n",
    "  total_time = tm.time() - time\n",
    "  print(\"Time: \", total_time)\n",
    "\n",
    "  return [total_time, steps]"
   ]
  },
  {
   "cell_type": "markdown",
   "metadata": {},
   "source": [
    "### Escenario 1"
   ]
  },
  {
   "cell_type": "code",
   "execution_count": 190,
   "metadata": {},
   "outputs": [
    {
     "name": "stdout",
     "output_type": "stream",
     "text": [
      "\n",
      "\n",
      "Number of vaccum:  1\n"
     ]
    },
    {
     "name": "stdout",
     "output_type": "stream",
     "text": [
      "Steps to clean all cells:  242335\n",
      "Time:  9.819329738616943\n",
      "\n",
      "\n",
      "Number of vaccums:  1\n",
      "\n",
      "\n",
      "Iteration:  100\n",
      "Dirty cells:  8965.0\n",
      "Time:  0.0057027339935302734\n",
      "\n",
      "\n",
      "Iteration:  1000\n",
      "Dirty cells:  8706.0\n",
      "Time:  0.03944802284240723\n",
      "\n",
      "\n",
      "Iteration:  10000\n",
      "Dirty cells:  6546.0\n",
      "Time:  0.38951706886291504\n"
     ]
    }
   ],
   "source": [
    "NUM_VACCUMS = 1\n",
    "\n",
    "model = VaccumModel(WIDTH, HEIGHT, NUM_VACCUMS, DIRTY_CELLS_PERCENT)\n",
    "clean_all_cells(model, NUM_VACCUMS)\n",
    "\n",
    "model = VaccumModel(WIDTH, HEIGHT, NUM_VACCUMS, DIRTY_CELLS_PERCENT)\n",
    "clean_cells(model, ITERATIONS, NUM_VACCUMS)"
   ]
  },
  {
   "cell_type": "markdown",
   "metadata": {},
   "source": [
    "### Escenario 2"
   ]
  },
  {
   "cell_type": "code",
   "execution_count": 191,
   "metadata": {},
   "outputs": [
    {
     "name": "stdout",
     "output_type": "stream",
     "text": [
      "\n",
      "\n",
      "Number of vaccum:  2\n",
      "Steps to clean all cells:  97932\n",
      "Time:  6.690618991851807\n",
      "\n",
      "\n",
      "Number of vaccums:  2\n",
      "\n",
      "\n",
      "Iteration:  100\n",
      "Dirty cells:  8907.0\n",
      "Time:  0.007847785949707031\n",
      "\n",
      "\n",
      "Iteration:  1000\n",
      "Dirty cells:  8428.0\n",
      "Time:  0.07965993881225586\n",
      "\n",
      "\n",
      "Iteration:  10000\n",
      "Dirty cells:  5090.0\n",
      "Time:  0.7873280048370361\n"
     ]
    }
   ],
   "source": [
    "NUM_VACCUMS = 2\n",
    "model = VaccumModel(WIDTH, HEIGHT, NUM_VACCUMS, DIRTY_CELLS_PERCENT)\n",
    "clean_all_cells(model, NUM_VACCUMS)\n",
    "\n",
    "model = VaccumModel(WIDTH, HEIGHT, NUM_VACCUMS, DIRTY_CELLS_PERCENT)\n",
    "clean_cells(model, ITERATIONS, NUM_VACCUMS)"
   ]
  },
  {
   "cell_type": "markdown",
   "metadata": {},
   "source": [
    "### Escenario 3"
   ]
  },
  {
   "cell_type": "code",
   "execution_count": 192,
   "metadata": {},
   "outputs": [
    {
     "name": "stdout",
     "output_type": "stream",
     "text": [
      "\n",
      "\n",
      "Number of vaccum:  1\n",
      "Steps to clean all cells:  260947\n",
      "Time:  10.110321760177612\n",
      "\n",
      "\n",
      "Number of vaccum:  2\n",
      "Steps to clean all cells:  154725\n",
      "Time:  10.294326066970825\n",
      "\n",
      "\n",
      "Number of vaccum:  3\n",
      "Steps to clean all cells:  82554\n",
      "Time:  7.6578381061553955\n",
      "\n",
      "\n",
      "Number of vaccum:  4\n",
      "Steps to clean all cells:  71070\n",
      "Time:  8.677252292633057\n",
      "\n",
      "\n",
      "Number of vaccum:  5\n",
      "Steps to clean all cells:  48078\n",
      "Time:  7.473476886749268\n",
      "\n",
      "\n",
      "Number of vaccum:  6\n",
      "Steps to clean all cells:  35473\n",
      "Time:  6.460430860519409\n",
      "\n",
      "\n",
      "Number of vaccum:  7\n",
      "Steps to clean all cells:  34536\n",
      "Time:  9.17567777633667\n",
      "\n",
      "\n",
      "Number of vaccum:  8\n",
      "Steps to clean all cells:  27487\n",
      "Time:  8.125147104263306\n",
      "\n",
      "\n",
      "Number of vaccum:  9\n",
      "Steps to clean all cells:  35928\n",
      "Time:  11.276005268096924\n",
      "\n",
      "\n",
      "Number of vaccum:  10\n",
      "Steps to clean all cells:  27449\n",
      "Time:  10.47147512435913\n"
     ]
    }
   ],
   "source": [
    "agents = [1, 2, 3, 4, 5, 6, 7, 8, 9, 10]\n",
    "steps = []\n",
    "times = []\n",
    "\n",
    "for i in agents:\n",
    "    NUM_VACCUMS = i\n",
    "    model = VaccumModel(WIDTH, HEIGHT, NUM_VACCUMS, DIRTY_CELLS_PERCENT)\n",
    "\n",
    "    [_steps, _total_time] = clean_all_cells(model, NUM_VACCUMS)\n",
    "    steps.append(_steps)\n",
    "    times.append(_total_time)"
   ]
  }
 ],
 "metadata": {
  "kernelspec": {
   "display_name": "Python 3",
   "language": "python",
   "name": "python3"
  },
  "language_info": {
   "codemirror_mode": {
    "name": "ipython",
    "version": 3
   },
   "file_extension": ".py",
   "mimetype": "text/x-python",
   "name": "python",
   "nbconvert_exporter": "python",
   "pygments_lexer": "ipython3",
   "version": "3.9.6"
  }
 },
 "nbformat": 4,
 "nbformat_minor": 2
}
