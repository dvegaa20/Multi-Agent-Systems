{
 "cells": [
  {
   "cell_type": "markdown",
   "metadata": {},
   "source": [
    "# Estudio de las estadísticas de un robot de limpieza reactivo\n",
    "\n",
    "Dado:\n",
    "\n",
    "Habitación de MxN espacios.\n",
    "Número de agentes.\n",
    "Porcentaje de celdas inicialmente sucias.\n",
    "Tiempo máximo de ejecución.\n",
    "Realiza la siguiente simulación:\n",
    "\n",
    "Inicializa las celdas sucias (ubicaciones aleatorias).\n",
    "Todos los agentes empiezan en la celda [1,1].\n",
    "En cada paso de tiempo:\n",
    "Si la celda está sucia, entonces aspira.\n",
    "Si la celda está limpia, el agente elije una dirección aleatoria para moverse (unas de las 8 celdas vecinas) y elije la acción de movimiento (si no puede moverse allí, permanecerá en la misma celda).\n",
    "Se ejecuta el tiempo máximo establecido.\n",
    "Para un espacio de 100x100, considera los siguientes escenarios:\n",
    "\n",
    "Escenario 1: 1 agente, 90% de celdas sucias.\n",
    "Escenario 2. 2 agentes, 90% de celdas sucias.\n",
    "Deberás resolver las siguientes preguntas:\n",
    "\n",
    "¿Cuántos pasos de simulación toma limpiar todo el espacio?\n",
    "¿Qué porcentaje de celdas sucias queda con los siguientes pasos de simulación: 100, 1000, 10000?\n",
    "A continuación, determina cuál es la cantidad óptima de aspiradoras que debe de tener para realizar la limpieza en el menor tiempo posible. Considera que tenemos un máximo de 10 aspiradoras disponibles.\n",
    "\n",
    "Desarrollar un informe con lo observado."
   ]
  },
  {
   "cell_type": "code",
   "execution_count": 1,
   "metadata": {},
   "outputs": [],
   "source": [
    "from mesa import Agent, Model\n",
    "\n",
    "from mesa.time import RandomActivation\n",
    "from mesa.datacollection import DataCollector\n",
    "from mesa.space import SingleGrid\n",
    "\n",
    "%matplotlib inline\n",
    "import matplotlib\n",
    "import matplotlib.pyplot as plt\n",
    "import matplotlib.animation as animation\n",
    "plt.rcParams[\"animation.html\"] = \"jshtml\"\n",
    "matplotlib.rcParams['animation.embed_limit'] = 2**128\n",
    "\n",
    "import numpy as np\n",
    "import pandas as pd\n",
    "\n",
    "import time\n",
    "import datetime"
   ]
  },
  {
   "cell_type": "code",
   "execution_count": null,
   "metadata": {},
   "outputs": [],
   "source": [
    "class VaccumAgent(Agent):\n",
    "    def __init__ (self, id, model):\n",
    "        super().__init__(id, model)\n",
    "        self.pos = (0,0)\n",
    "        self.dirty = 0\n",
    "\n",
    "    def step(self):\n",
    "        if self.dirty:\n",
    "            self.clean()\n",
    "        else:\n",
    "            self.move()\n",
    "\n",
    "    def move(self):\n",
    "        \n",
    "    def clean(self):\n",
    "        self.dirty = False"
   ]
  },
  {
   "cell_type": "code",
   "execution_count": null,
   "metadata": {},
   "outputs": [],
   "source": [
    "def get_grid(model):\n",
    "    grid = np.zeros((model.grid.width, model.grid.height))\n",
    "    for (content, (x, y)) in model.grid.coord_iter():\n",
    "        if content == None:\n",
    "            grid[x][y] = 0\n",
    "        else:\n",
    "            grid[x][y] = content.type\n",
    "    return grid"
   ]
  },
  {
   "cell_type": "code",
   "execution_count": null,
   "metadata": {},
   "outputs": [],
   "source": [
    "class VaccumModel(Model):\n",
    "    def __init__ ()"
   ]
  },
  {
   "cell_type": "code",
   "execution_count": null,
   "metadata": {},
   "outputs": [],
   "source": [
    "WIDTH = 10\n",
    "HEIGHT = 10\n",
    "NUM_AGENTS = 1\n",
    "DIRTY_CELLS = 0.6\n",
    "MAX_STEEP = 60"
   ]
  }
 ],
 "metadata": {
  "kernelspec": {
   "display_name": "Python 3",
   "language": "python",
   "name": "python3"
  },
  "language_info": {
   "codemirror_mode": {
    "name": "ipython",
    "version": 3
   },
   "file_extension": ".py",
   "mimetype": "text/x-python",
   "name": "python",
   "nbconvert_exporter": "python",
   "pygments_lexer": "ipython3",
   "version": "3.9.6"
  }
 },
 "nbformat": 4,
 "nbformat_minor": 2
}
