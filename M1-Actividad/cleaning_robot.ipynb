{
 "cells": [
  {
   "cell_type": "markdown",
   "metadata": {},
   "source": [
    "# Estudio de las estadísticas de un robot de limpieza reactivo\n",
    "\n",
    "Dado:\n",
    "\n",
    "Habitación de MxN espacios.\n",
    "Número de agentes.\n",
    "Porcentaje de celdas inicialmente sucias.\n",
    "Tiempo máximo de ejecución.\n",
    "Realiza la siguiente simulación:\n",
    "\n",
    "Inicializa las celdas sucias (ubicaciones aleatorias).\n",
    "Todos los agentes empiezan en la celda [1,1].\n",
    "En cada paso de tiempo:\n",
    "Si la celda está sucia, entonces aspira.\n",
    "Si la celda está limpia, el agente elije una dirección aleatoria para moverse (unas de las 8 celdas vecinas) y elije la acción de movimiento (si no puede moverse allí, permanecerá en la misma celda).\n",
    "Se ejecuta el tiempo máximo establecido.\n",
    "Para un espacio de 100x100, considera los siguientes escenarios:\n",
    "\n",
    "Escenario 1: 1 agente, 90% de celdas sucias.\n",
    "Escenario 2. 2 agentes, 90% de celdas sucias.\n",
    "Deberás resolver las siguientes preguntas:\n",
    "\n",
    "¿Cuántos pasos de simulación toma limpiar todo el espacio?\n",
    "¿Qué porcentaje de celdas sucias queda con los siguientes pasos de simulación: 100, 1000, 10000?\n",
    "A continuación, determina cuál es la cantidad óptima de aspiradoras que debe de tener para realizar la limpieza en el menor tiempo posible. Considera que tenemos un máximo de 10 aspiradoras disponibles.\n",
    "\n",
    "Desarrollar un informe con lo observado."
   ]
  },
  {
   "cell_type": "code",
   "execution_count": 1,
   "metadata": {},
   "outputs": [],
   "source": [
    "from mesa import Agent, Model\n",
    "\n",
    "from mesa.space import MultiGrid\n",
    "from mesa.time import RandomActivation\n",
    "from mesa.datacollection import DataCollector\n",
    "\n",
    "%matplotlib inline\n",
    "import matplotlib\n",
    "import matplotlib.pyplot as plt\n",
    "import matplotlib.animation as animation\n",
    "plt.rcParams[\"animation.html\"] = \"jshtml\"\n",
    "matplotlib.rcParams['animation.embed_limit'] = 2**128\n",
    "\n",
    "import numpy as np\n",
    "import pandas as pd\n",
    "\n",
    "import time\n",
    "import datetime"
   ]
  },
  {
   "cell_type": "code",
   "execution_count": null,
   "metadata": {},
   "outputs": [],
   "source": [
    "class VaccumAgent(Agent):\n",
    "    def __init__ (self, id, model, x, y):\n",
    "        super().__init__(id, model)\n",
    "        self.pos = (x,y)\n",
    "\n",
    "    def step(self):\n",
    "        x_pos = self.pos[0]\n",
    "        y_pos = self.pos[1]\n",
    "\n",
    "        # Check if the current cell is dirty\n",
    "        if self.model.grid[x_pos][y_pos] == 1:\n",
    "            self.model.grid[x_pos][y_pos] = 0\n",
    "            self.model.cleaned_cells += 1\n",
    "            self.model.total_dirt -= 1\n",
    "        \n",
    "        # Move to a random cell\n",
    "        possible_steps = self.model.grid.get_neighborhood(self.pos, moore=True, include_center=False)\n",
    "        new_position = self.random.choice(possible_steps)\n",
    "        cellmate = self.model.grid.get_cell_list_contents([new_position])\n",
    "\n",
    "        self.pos = new_position\n",
    "        self.model.grid.move_agent(self, new_position)"
   ]
  },
  {
   "cell_type": "code",
   "execution_count": null,
   "metadata": {},
   "outputs": [],
   "source": [
    "def get_vaccums(model):\n",
    "    return np.asarray([agent.pos for agent in model.schedule.agents])"
   ]
  },
  {
   "cell_type": "code",
   "execution_count": null,
   "metadata": {},
   "outputs": [],
   "source": [
    "class VaccumModel(Model):\n",
    "    def __init__ (self, width, height, num_agents, dirty_percentage):\n",
    "        self.grid = MultiGrid(width, height, torus = False)\n",
    "        self.schedule = RandomActivation(self)\n",
    "        self.datacollector = DataCollector(\n",
    "            model_reporters = {\"Vaccums\": get_vaccums},\n",
    "            agent_reporters = {\"Position\": \"pos\"}\n",
    "        )\n",
    "        self.dirty_cells = np.zeros((width, height))\n",
    "        self.dirty_percentage = dirty_percentage\n",
    "        self.running = True\n",
    "\n",
    "        # Create agents\n",
    "        for i in range(num_agents):\n",
    "            x = 1\n",
    "            y = 1\n",
    "            agent = VaccumAgent(i, self, x, y)\n",
    "            self.schedule.add(agent)\n",
    "            self.grid.place_agent(agent, (x,y))\n",
    "\n",
    "        # Create dirty cells\n",
    "        dirt_cells = 0\n",
    "        while total_dirt < int(width * height * (dirty_percentage / 100)):\n",
    "            x = int(np.random.rand() * width)\n",
    "            y = int(np.random.rand() * height)\n",
    "            if self.dirty_cells[x][y] == 0:\n",
    "                self.dirty_cells[x][y] = 1\n",
    "                dirt_cells += 1\n",
    "\n",
    "        def step(self):\n",
    "            self.datacollector.collect(self)\n",
    "            self.schedule.step()\n"
   ]
  },
  {
   "cell_type": "code",
   "execution_count": null,
   "metadata": {},
   "outputs": [],
   "source": [
    "WIDTH = 100\n",
    "HEIGHT = 100\n",
    "DIRTY_PERCENTAGE = 90\n",
    "ITERATIONS = [100,1000,10000]"
   ]
  },
  {
   "cell_type": "code",
   "execution_count": null,
   "metadata": {},
   "outputs": [],
   "source": [
    "def clean(model, iterations, num_vaccums):\n",
    "    print (\"Number of vaccums: \", num_vaccums)\n",
    "\n",
    "    for iteration in interations:\n",
    "        time = time.time()\n",
    "\n",
    "        print(\"Iteration: \", iteration)\n",
    "\n",
    "        for i in range(interation):\n",
    "            model.step()\n",
    "\n",
    "            if model.running == False:\n",
    "                break\n",
    "\n",
    "        dirty_cells = model.dirty_cells.sum()\n",
    "        dirty_percentage = (dirty_cells / (WIDTH * HEIGHT)) * 100\n",
    "\n",
    "        print(\"Dirty cells: \", dirty_cells)\n",
    "        print(\"Time: \", time.time() - time)"
   ]
  },
  {
   "cell_type": "code",
   "execution_count": null,
   "metadata": {},
   "outputs": [],
   "source": [
    "def clean_all_cells(model, num_vaccums):\n",
    "    time = time.time()\n",
    "    steps = 0\n",
    "\n",
    "    print(\"Agents: \", num_vaccums)\n",
    "    \n",
    "    while model.running == True:\n",
    "        model.step()\n",
    "        steps += 1\n",
    "\n",
    "    print(\"Steps: \", steps)\n",
    "\n",
    "    total_time = time.time() - time\n",
    "    print(\"Total time: \", total_time)\n",
    "\n",
    "    return [total_time, steps]"
   ]
  },
  {
   "cell_type": "code",
   "execution_count": null,
   "metadata": {},
   "outputs": [],
   "source": [
    "NUM_VACCUMS = 1\n",
    "model = VaccumModel(WIDTH, HEIGHT, NUM_VACCUMS, DIRTY_PERCENTAGE)\n",
    "clean_all_cells(model, NUM_VACCUMS)\n",
    "\n",
    "model = VaccumModel(WIDTH, HEIGHT, NUM_VACCUMS, DIRTY_PERCENTAGE)\n",
    "clean(model, ITERATIONS, NUM_VACCUMS)"
   ]
  }
 ],
 "metadata": {
  "kernelspec": {
   "display_name": "Python 3",
   "language": "python",
   "name": "python3"
  },
  "language_info": {
   "codemirror_mode": {
    "name": "ipython",
    "version": 3
   },
   "file_extension": ".py",
   "mimetype": "text/x-python",
   "name": "python",
   "nbconvert_exporter": "python",
   "pygments_lexer": "ipython3",
   "version": "3.9.6"
  }
 },
 "nbformat": 4,
 "nbformat_minor": 2
}
